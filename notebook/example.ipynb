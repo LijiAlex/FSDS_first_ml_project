{
 "cells": [
  {
   "cell_type": "code",
   "execution_count": 1,
   "metadata": {},
   "outputs": [],
   "source": [
    "from collections import namedtuple"
   ]
  },
  {
   "cell_type": "markdown",
   "metadata": {},
   "source": [
    "1. Download url\n",
    "2. Downloded file- compressed file\n",
    "3. Extract folder- decompressed file\n",
    "4. Train dataset folder\n",
    "5. Test dataset folder"
   ]
  },
  {
   "cell_type": "code",
   "execution_count": 14,
   "metadata": {},
   "outputs": [],
   "source": [
    "DataIngestionConfig = namedtuple(\"DataIngestionConfig\",\n",
    "[\"dataset_download_url\", \"tqz_download_dir\", \"raw_data_dir\", \"ingested_train_dir\", \"ingested_test_dir\"])"
   ]
  },
  {
   "cell_type": "code",
   "execution_count": 15,
   "metadata": {},
   "outputs": [
    {
     "data": {
      "text/plain": [
       "DataIngestionConfig(dataset_download_url='jhgjhgjhg', tqz_download_dir='kjhkjhkjhkj', raw_data_dir='gjhghjghgh', ingested_train_dir='jgjhgjhg', ingested_test_dir='ghfgfjgj')"
      ]
     },
     "execution_count": 15,
     "metadata": {},
     "output_type": "execute_result"
    }
   ],
   "source": [
    "data_ingestion_config = DataIngestionConfig(\n",
    "    dataset_download_url = \"jhgjhgjhg\",\n",
    "    tqz_download_dir = \"kjhkjhkjhkj\",\n",
    "    raw_data_dir = \"gjhghjghgh\",\n",
    "    ingested_train_dir = \"jgjhgjhg\",\n",
    "    ingested_test_dir = \"ghfgfjgj\")\n",
    "data_ingestion_config"
   ]
  },
  {
   "cell_type": "code",
   "execution_count": 1,
   "metadata": {},
   "outputs": [],
   "source": [
    "import yaml"
   ]
  },
  {
   "cell_type": "code",
   "execution_count": 2,
   "metadata": {},
   "outputs": [],
   "source": [
    "import os"
   ]
  },
  {
   "cell_type": "code",
   "execution_count": 3,
   "metadata": {},
   "outputs": [
    {
     "data": {
      "text/plain": [
       "'d:\\\\Ineuron\\\\Projects\\\\HousingPrediction\\\\FSDS_first_ml_project\\\\notebook'"
      ]
     },
     "execution_count": 3,
     "metadata": {},
     "output_type": "execute_result"
    }
   ],
   "source": [
    "os.getcwd()"
   ]
  },
  {
   "cell_type": "code",
   "execution_count": 7,
   "metadata": {},
   "outputs": [],
   "source": [
    "os.chdir(\"..\")"
   ]
  },
  {
   "cell_type": "code",
   "execution_count": 8,
   "metadata": {},
   "outputs": [
    {
     "data": {
      "text/plain": [
       "'d:\\\\Ineuron\\\\Projects\\\\HousingPrediction\\\\FSDS_first_ml_project'"
      ]
     },
     "execution_count": 8,
     "metadata": {},
     "output_type": "execute_result"
    }
   ],
   "source": [
    "os.getcwd()"
   ]
  },
  {
   "cell_type": "code",
   "execution_count": 9,
   "metadata": {},
   "outputs": [
    {
     "data": {
      "text/plain": [
       "['.dockerignore',\n",
       " '.git',\n",
       " '.github',\n",
       " '.gitignore',\n",
       " 'app.py',\n",
       " 'build',\n",
       " 'config',\n",
       " 'dist',\n",
       " 'Dockerfile',\n",
       " 'housing',\n",
       " 'housing_logs',\n",
       " 'housing_predictor.egg-info',\n",
       " 'LICENSE',\n",
       " 'notebook',\n",
       " 'README.md',\n",
       " 'requirements.txt',\n",
       " 'setup.py',\n",
       " 'venv',\n",
       " '__pycache__']"
      ]
     },
     "execution_count": 9,
     "metadata": {},
     "output_type": "execute_result"
    }
   ],
   "source": [
    "os.listdir(\".\")"
   ]
  },
  {
   "cell_type": "code",
   "execution_count": 10,
   "metadata": {},
   "outputs": [
    {
     "data": {
      "text/plain": [
       "['config.yaml']"
      ]
     },
     "execution_count": 10,
     "metadata": {},
     "output_type": "execute_result"
    }
   ],
   "source": [
    "os.listdir(\"./config/\")"
   ]
  },
  {
   "cell_type": "code",
   "execution_count": 14,
   "metadata": {},
   "outputs": [
    {
     "data": {
      "text/plain": [
       "'config\\\\config.yaml'"
      ]
     },
     "execution_count": 14,
     "metadata": {},
     "output_type": "execute_result"
    }
   ],
   "source": [
    "config_file_path = os.path.join(\"config\",\"config.yaml\")\n",
    "config_file_path"
   ]
  },
  {
   "cell_type": "code",
   "execution_count": 15,
   "metadata": {},
   "outputs": [
    {
     "data": {
      "text/plain": [
       "True"
      ]
     },
     "execution_count": 15,
     "metadata": {},
     "output_type": "execute_result"
    }
   ],
   "source": [
    "os.path.exists(config_file_path)"
   ]
  },
  {
   "cell_type": "code",
   "execution_count": 21,
   "metadata": {},
   "outputs": [],
   "source": [
    "def read_yaml_file(file_path:str)->dict:\n",
    "    \"\"\"\n",
    "    Reads YAML file and returns contents as a dictionary.\n",
    "    file_path: str\n",
    "    \"\"\"\n",
    "    try:\n",
    "        with open(file_path, \"rb\") as yaml_file:\n",
    "            return yaml.safe_load(yaml_file)\n",
    "    except Exception as e:\n",
    "        raise e"
   ]
  },
  {
   "cell_type": "code",
   "execution_count": 22,
   "metadata": {},
   "outputs": [
    {
     "data": {
      "text/plain": [
       "{'training_pipeline_config': {'pipeline_name': 'housing',\n",
       "  'artifact_dir': 'artifact'},\n",
       " 'data_ingestion_config': {'dataset_download_url': 'https://raw.githubusercontent.com/ageron/handson-ml/master/datasets/housing/housing.tgz',\n",
       "  'raw_data_dir': 'raw_data',\n",
       "  'tgz_download_dir': 'tgz_data',\n",
       "  'ingested_dir': 'ingested_data',\n",
       "  'ingested_train_dir': 'train',\n",
       "  'ingested_test_dir': 'test'},\n",
       " 'data_validation_config': {'schema_dir': 'config',\n",
       "  'schema_file_name': 'schema.yaml',\n",
       "  'report_file_name': 'report.json',\n",
       "  'report_page_file_name': 'report.html'},\n",
       " 'data_transformation_config': {'add_bedroom_per_room': True,\n",
       "  'transformed_dir': 'transformed_data',\n",
       "  'transformed_train_dir': 'train',\n",
       "  'transformed_test_dir': 'test',\n",
       "  'preprocessing_dir': 'preprocessed',\n",
       "  'preprocessed_object_file_name': 'preprocessed.pkl'},\n",
       " 'model_trainer_config': {'trained_model_dir': 'trained_model',\n",
       "  'model_file_name': 'model.pkl',\n",
       "  'base_accuracy': 0.6,\n",
       "  'model_config_dir': 'config',\n",
       "  'model_config_file_name': 'model.yaml'},\n",
       " 'model_evaluation_config': {'model_evaluation_file_name': 'model_evaluation.yaml'},\n",
       " 'model_pusher_config': {'model_export_dir': 'saved_models'}}"
      ]
     },
     "execution_count": 22,
     "metadata": {},
     "output_type": "execute_result"
    }
   ],
   "source": [
    "config_info = read_yaml_file(config_file_path)\n",
    "config_info"
   ]
  },
  {
   "cell_type": "code",
   "execution_count": 18,
   "metadata": {},
   "outputs": [
    {
     "data": {
      "text/plain": [
       "{'dataset_download_url': 'https://raw.githubusercontent.com/ageron/handson-ml/master/datasets/housing/housing.tgz',\n",
       " 'raw_data_dir': 'raw_data',\n",
       " 'tgz_download_dir': 'tgz_data',\n",
       " 'ingested_dir': 'ingested_data',\n",
       " 'ingested_train_dir': 'train',\n",
       " 'ingested_test_dir': 'test'}"
      ]
     },
     "execution_count": 18,
     "metadata": {},
     "output_type": "execute_result"
    }
   ],
   "source": [
    "config_info['data_ingestion_config']"
   ]
  },
  {
   "cell_type": "code",
   "execution_count": 2,
   "metadata": {},
   "outputs": [
    {
     "data": {
      "text/plain": [
       "'d:\\\\Ineuron\\\\Projects\\\\HousingPrediction\\\\FSDS_first_ml_project\\\\notebook'"
      ]
     },
     "execution_count": 2,
     "metadata": {},
     "output_type": "execute_result"
    }
   ],
   "source": [
    "os.getcwd()"
   ]
  },
  {
   "cell_type": "code",
   "execution_count": 3,
   "metadata": {},
   "outputs": [],
   "source": [
    "os.chdir(\"..\")"
   ]
  },
  {
   "cell_type": "code",
   "execution_count": 4,
   "metadata": {},
   "outputs": [
    {
     "data": {
      "text/plain": [
       "'d:\\\\Ineuron\\\\Projects\\\\HousingPrediction\\\\FSDS_first_ml_project'"
      ]
     },
     "execution_count": 4,
     "metadata": {},
     "output_type": "execute_result"
    }
   ],
   "source": [
    "os.getcwd()"
   ]
  },
  {
   "cell_type": "code",
   "execution_count": 7,
   "metadata": {},
   "outputs": [
    {
     "data": {
      "text/plain": [
       "['configuration.py', '__init__.py']"
      ]
     },
     "execution_count": 7,
     "metadata": {},
     "output_type": "execute_result"
    }
   ],
   "source": [
    "os.listdir(\".\\\\housing\\\\config\\\\\")"
   ]
  },
  {
   "cell_type": "code",
   "execution_count": 1,
   "metadata": {},
   "outputs": [],
   "source": [
    "from housing.config.configuration import Configuration\n",
    "from housing.constant import *"
   ]
  },
  {
   "cell_type": "code",
   "execution_count": 4,
   "metadata": {},
   "outputs": [
    {
     "data": {
      "text/plain": [
       "'d:\\\\Ineuron\\\\Projects\\\\HousingPrediction\\\\FSDS_first_ml_project\\\\notebook'"
      ]
     },
     "execution_count": 4,
     "metadata": {},
     "output_type": "execute_result"
    }
   ],
   "source": [
    "ROOT_DIR"
   ]
  },
  {
   "cell_type": "code",
   "execution_count": null,
   "metadata": {},
   "outputs": [],
   "source": []
  },
  {
   "cell_type": "code",
   "execution_count": 6,
   "metadata": {},
   "outputs": [
    {
     "data": {
      "text/plain": [
       "'d:\\\\Ineuron\\\\Projects\\\\HousingPrediction\\\\FSDS_first_ml_project\\\\config\\\\config.yaml'"
      ]
     },
     "execution_count": 6,
     "metadata": {},
     "output_type": "execute_result"
    }
   ],
   "source": [
    "CONFIG_FILE_PATH = os.path.join(\"d:\\\\Ineuron\\\\Projects\\\\HousingPrediction\\\\FSDS_first_ml_project\", CONFIG_DIR, CONFIG_FILE)\n",
    "CONFIG_FILE_PATH"
   ]
  },
  {
   "cell_type": "code",
   "execution_count": 7,
   "metadata": {},
   "outputs": [],
   "source": [
    "config = Configuration(config_file_path=CONFIG_FILE_PATH)"
   ]
  },
  {
   "cell_type": "code",
   "execution_count": 11,
   "metadata": {},
   "outputs": [],
   "source": [
    "data_ingestion_config = config.get_data_ingestion_config()"
   ]
  },
  {
   "cell_type": "code",
   "execution_count": 15,
   "metadata": {},
   "outputs": [
    {
     "data": {
      "text/plain": [
       "'d:\\\\Ineuron\\\\Projects\\\\HousingPrediction\\\\FSDS_first_ml_project\\\\notebook\\\\pipeline_name\\\\artifact_dir\\\\data_ingestion\\\\2022-09-06-05-03-29\\\\ingested_data\\\\train'"
      ]
     },
     "execution_count": 15,
     "metadata": {},
     "output_type": "execute_result"
    }
   ],
   "source": [
    "data_ingestion_config.ingested_train_dir"
   ]
  },
  {
   "cell_type": "code",
   "execution_count": 1,
   "metadata": {},
   "outputs": [],
   "source": [
    "url = \"https://raw.githubusercontent.com/ageron/handson-ml/master/datasets/housing/housing.tgz\""
   ]
  },
  {
   "cell_type": "code",
   "execution_count": 2,
   "metadata": {},
   "outputs": [
    {
     "data": {
      "text/plain": [
       "'housing.tgz'"
      ]
     },
     "execution_count": 2,
     "metadata": {},
     "output_type": "execute_result"
    }
   ],
   "source": [
    "import os\n",
    "\n",
    "os.path.basename(url)"
   ]
  },
  {
   "cell_type": "code",
   "execution_count": 6,
   "metadata": {},
   "outputs": [
    {
     "data": {
      "text/plain": [
       "['config.yaml']"
      ]
     },
     "execution_count": 6,
     "metadata": {},
     "output_type": "execute_result"
    }
   ],
   "source": [
    "file_path = \"D:\\Ineuron\\Projects\\HousingPrediction\\FSDS_first_ml_project\\config\"\n",
    "os.listdir(file_path)"
   ]
  },
  {
   "cell_type": "code",
   "execution_count": 7,
   "metadata": {},
   "outputs": [
    {
     "data": {
      "text/plain": [
       "'config.yaml'"
      ]
     },
     "execution_count": 7,
     "metadata": {},
     "output_type": "execute_result"
    }
   ],
   "source": [
    "os.listdir(file_path)[0]"
   ]
  },
  {
   "cell_type": "code",
   "execution_count": 10,
   "metadata": {},
   "outputs": [
    {
     "ename": "SyntaxError",
     "evalue": "(unicode error) 'unicodeescape' codec can't decode bytes in position 2-3: truncated \\UXXXXXXXX escape (1584628630.py, line 3)",
     "output_type": "error",
     "traceback": [
      "\u001b[1;36m  File \u001b[1;32m\"C:\\Users\\VMDRE465\\AppData\\Local\\Temp\\ipykernel_65812\\1584628630.py\"\u001b[1;36m, line \u001b[1;32m3\u001b[0m\n\u001b[1;33m    df = pd.read_csv(\"C:\\Users\\VMDRE465\\Downloads\\housing\\housing\\housing\\housing.csv\", encoding=\"utf-8\")\u001b[0m\n\u001b[1;37m                    ^\u001b[0m\n\u001b[1;31mSyntaxError\u001b[0m\u001b[1;31m:\u001b[0m (unicode error) 'unicodeescape' codec can't decode bytes in position 2-3: truncated \\UXXXXXXXX escape\n"
     ]
    }
   ],
   "source": [
    "import pandas as pd\n",
    "\n",
    "df = pd.read_csv(\"C:\\Users\\VMDRE465\\Downloads\\housing\\housing\\housing\\housing.csv\", encoding=\"utf-8\")\n",
    "df.head()"
   ]
  },
  {
   "cell_type": "code",
   "execution_count": 1,
   "metadata": {},
   "outputs": [],
   "source": [
    "import pandas as pd"
   ]
  },
  {
   "cell_type": "code",
   "execution_count": 4,
   "metadata": {},
   "outputs": [],
   "source": [
    "housing_data_frame = pd.read_csv(r\"D:\\Ineuron\\Projects\\HousingPrediction\\FSDS_first_ml_project\\housing\\artifact\\data_ingestion\\2022-09-07-13-40-53\\raw_data\\housing.csv\")"
   ]
  },
  {
   "cell_type": "code",
   "execution_count": 5,
   "metadata": {},
   "outputs": [
    {
     "data": {
      "text/html": [
       "<div>\n",
       "<style scoped>\n",
       "    .dataframe tbody tr th:only-of-type {\n",
       "        vertical-align: middle;\n",
       "    }\n",
       "\n",
       "    .dataframe tbody tr th {\n",
       "        vertical-align: top;\n",
       "    }\n",
       "\n",
       "    .dataframe thead th {\n",
       "        text-align: right;\n",
       "    }\n",
       "</style>\n",
       "<table border=\"1\" class=\"dataframe\">\n",
       "  <thead>\n",
       "    <tr style=\"text-align: right;\">\n",
       "      <th></th>\n",
       "      <th>longitude</th>\n",
       "      <th>latitude</th>\n",
       "      <th>housing_median_age</th>\n",
       "      <th>total_rooms</th>\n",
       "      <th>total_bedrooms</th>\n",
       "      <th>population</th>\n",
       "      <th>households</th>\n",
       "      <th>median_income</th>\n",
       "      <th>median_house_value</th>\n",
       "      <th>ocean_proximity</th>\n",
       "    </tr>\n",
       "  </thead>\n",
       "  <tbody>\n",
       "    <tr>\n",
       "      <th>0</th>\n",
       "      <td>-122.23</td>\n",
       "      <td>37.88</td>\n",
       "      <td>41.0</td>\n",
       "      <td>880.0</td>\n",
       "      <td>129.0</td>\n",
       "      <td>322.0</td>\n",
       "      <td>126.0</td>\n",
       "      <td>8.3252</td>\n",
       "      <td>452600.0</td>\n",
       "      <td>NEAR BAY</td>\n",
       "    </tr>\n",
       "    <tr>\n",
       "      <th>1</th>\n",
       "      <td>-122.22</td>\n",
       "      <td>37.86</td>\n",
       "      <td>21.0</td>\n",
       "      <td>7099.0</td>\n",
       "      <td>1106.0</td>\n",
       "      <td>2401.0</td>\n",
       "      <td>1138.0</td>\n",
       "      <td>8.3014</td>\n",
       "      <td>358500.0</td>\n",
       "      <td>NEAR BAY</td>\n",
       "    </tr>\n",
       "    <tr>\n",
       "      <th>2</th>\n",
       "      <td>-122.24</td>\n",
       "      <td>37.85</td>\n",
       "      <td>52.0</td>\n",
       "      <td>1467.0</td>\n",
       "      <td>190.0</td>\n",
       "      <td>496.0</td>\n",
       "      <td>177.0</td>\n",
       "      <td>7.2574</td>\n",
       "      <td>352100.0</td>\n",
       "      <td>NEAR BAY</td>\n",
       "    </tr>\n",
       "    <tr>\n",
       "      <th>3</th>\n",
       "      <td>-122.25</td>\n",
       "      <td>37.85</td>\n",
       "      <td>52.0</td>\n",
       "      <td>1274.0</td>\n",
       "      <td>235.0</td>\n",
       "      <td>558.0</td>\n",
       "      <td>219.0</td>\n",
       "      <td>5.6431</td>\n",
       "      <td>341300.0</td>\n",
       "      <td>NEAR BAY</td>\n",
       "    </tr>\n",
       "    <tr>\n",
       "      <th>4</th>\n",
       "      <td>-122.25</td>\n",
       "      <td>37.85</td>\n",
       "      <td>52.0</td>\n",
       "      <td>1627.0</td>\n",
       "      <td>280.0</td>\n",
       "      <td>565.0</td>\n",
       "      <td>259.0</td>\n",
       "      <td>3.8462</td>\n",
       "      <td>342200.0</td>\n",
       "      <td>NEAR BAY</td>\n",
       "    </tr>\n",
       "    <tr>\n",
       "      <th>...</th>\n",
       "      <td>...</td>\n",
       "      <td>...</td>\n",
       "      <td>...</td>\n",
       "      <td>...</td>\n",
       "      <td>...</td>\n",
       "      <td>...</td>\n",
       "      <td>...</td>\n",
       "      <td>...</td>\n",
       "      <td>...</td>\n",
       "      <td>...</td>\n",
       "    </tr>\n",
       "    <tr>\n",
       "      <th>20635</th>\n",
       "      <td>-121.09</td>\n",
       "      <td>39.48</td>\n",
       "      <td>25.0</td>\n",
       "      <td>1665.0</td>\n",
       "      <td>374.0</td>\n",
       "      <td>845.0</td>\n",
       "      <td>330.0</td>\n",
       "      <td>1.5603</td>\n",
       "      <td>78100.0</td>\n",
       "      <td>INLAND</td>\n",
       "    </tr>\n",
       "    <tr>\n",
       "      <th>20636</th>\n",
       "      <td>-121.21</td>\n",
       "      <td>39.49</td>\n",
       "      <td>18.0</td>\n",
       "      <td>697.0</td>\n",
       "      <td>150.0</td>\n",
       "      <td>356.0</td>\n",
       "      <td>114.0</td>\n",
       "      <td>2.5568</td>\n",
       "      <td>77100.0</td>\n",
       "      <td>INLAND</td>\n",
       "    </tr>\n",
       "    <tr>\n",
       "      <th>20637</th>\n",
       "      <td>-121.22</td>\n",
       "      <td>39.43</td>\n",
       "      <td>17.0</td>\n",
       "      <td>2254.0</td>\n",
       "      <td>485.0</td>\n",
       "      <td>1007.0</td>\n",
       "      <td>433.0</td>\n",
       "      <td>1.7000</td>\n",
       "      <td>92300.0</td>\n",
       "      <td>INLAND</td>\n",
       "    </tr>\n",
       "    <tr>\n",
       "      <th>20638</th>\n",
       "      <td>-121.32</td>\n",
       "      <td>39.43</td>\n",
       "      <td>18.0</td>\n",
       "      <td>1860.0</td>\n",
       "      <td>409.0</td>\n",
       "      <td>741.0</td>\n",
       "      <td>349.0</td>\n",
       "      <td>1.8672</td>\n",
       "      <td>84700.0</td>\n",
       "      <td>INLAND</td>\n",
       "    </tr>\n",
       "    <tr>\n",
       "      <th>20639</th>\n",
       "      <td>-121.24</td>\n",
       "      <td>39.37</td>\n",
       "      <td>16.0</td>\n",
       "      <td>2785.0</td>\n",
       "      <td>616.0</td>\n",
       "      <td>1387.0</td>\n",
       "      <td>530.0</td>\n",
       "      <td>2.3886</td>\n",
       "      <td>89400.0</td>\n",
       "      <td>INLAND</td>\n",
       "    </tr>\n",
       "  </tbody>\n",
       "</table>\n",
       "<p>20640 rows × 10 columns</p>\n",
       "</div>"
      ],
      "text/plain": [
       "       longitude  latitude  housing_median_age  total_rooms  total_bedrooms  \\\n",
       "0        -122.23     37.88                41.0        880.0           129.0   \n",
       "1        -122.22     37.86                21.0       7099.0          1106.0   \n",
       "2        -122.24     37.85                52.0       1467.0           190.0   \n",
       "3        -122.25     37.85                52.0       1274.0           235.0   \n",
       "4        -122.25     37.85                52.0       1627.0           280.0   \n",
       "...          ...       ...                 ...          ...             ...   \n",
       "20635    -121.09     39.48                25.0       1665.0           374.0   \n",
       "20636    -121.21     39.49                18.0        697.0           150.0   \n",
       "20637    -121.22     39.43                17.0       2254.0           485.0   \n",
       "20638    -121.32     39.43                18.0       1860.0           409.0   \n",
       "20639    -121.24     39.37                16.0       2785.0           616.0   \n",
       "\n",
       "       population  households  median_income  median_house_value  \\\n",
       "0           322.0       126.0         8.3252            452600.0   \n",
       "1          2401.0      1138.0         8.3014            358500.0   \n",
       "2           496.0       177.0         7.2574            352100.0   \n",
       "3           558.0       219.0         5.6431            341300.0   \n",
       "4           565.0       259.0         3.8462            342200.0   \n",
       "...           ...         ...            ...                 ...   \n",
       "20635       845.0       330.0         1.5603             78100.0   \n",
       "20636       356.0       114.0         2.5568             77100.0   \n",
       "20637      1007.0       433.0         1.7000             92300.0   \n",
       "20638       741.0       349.0         1.8672             84700.0   \n",
       "20639      1387.0       530.0         2.3886             89400.0   \n",
       "\n",
       "      ocean_proximity  \n",
       "0            NEAR BAY  \n",
       "1            NEAR BAY  \n",
       "2            NEAR BAY  \n",
       "3            NEAR BAY  \n",
       "4            NEAR BAY  \n",
       "...               ...  \n",
       "20635          INLAND  \n",
       "20636          INLAND  \n",
       "20637          INLAND  \n",
       "20638          INLAND  \n",
       "20639          INLAND  \n",
       "\n",
       "[20640 rows x 10 columns]"
      ]
     },
     "execution_count": 5,
     "metadata": {},
     "output_type": "execute_result"
    }
   ],
   "source": [
    "housing_data_frame"
   ]
  },
  {
   "cell_type": "code",
   "execution_count": 7,
   "metadata": {},
   "outputs": [],
   "source": [
    "import numpy as np\n",
    "housing_data_frame[\"income_cat\"] = pd.cut(\n",
    "                housing_data_frame[\"median_income\"],\n",
    "                bins=[0.0, 1.5, 3.0, 4.5, 6.0, np.inf],\n",
    "                labels=[1,2,3,4,5]\n",
    "            )"
   ]
  },
  {
   "cell_type": "code",
   "execution_count": 8,
   "metadata": {},
   "outputs": [
    {
     "data": {
      "text/html": [
       "<div>\n",
       "<style scoped>\n",
       "    .dataframe tbody tr th:only-of-type {\n",
       "        vertical-align: middle;\n",
       "    }\n",
       "\n",
       "    .dataframe tbody tr th {\n",
       "        vertical-align: top;\n",
       "    }\n",
       "\n",
       "    .dataframe thead th {\n",
       "        text-align: right;\n",
       "    }\n",
       "</style>\n",
       "<table border=\"1\" class=\"dataframe\">\n",
       "  <thead>\n",
       "    <tr style=\"text-align: right;\">\n",
       "      <th></th>\n",
       "      <th>longitude</th>\n",
       "      <th>latitude</th>\n",
       "      <th>housing_median_age</th>\n",
       "      <th>total_rooms</th>\n",
       "      <th>total_bedrooms</th>\n",
       "      <th>population</th>\n",
       "      <th>households</th>\n",
       "      <th>median_income</th>\n",
       "      <th>median_house_value</th>\n",
       "      <th>ocean_proximity</th>\n",
       "      <th>income_cat</th>\n",
       "    </tr>\n",
       "  </thead>\n",
       "  <tbody>\n",
       "    <tr>\n",
       "      <th>0</th>\n",
       "      <td>-122.23</td>\n",
       "      <td>37.88</td>\n",
       "      <td>41.0</td>\n",
       "      <td>880.0</td>\n",
       "      <td>129.0</td>\n",
       "      <td>322.0</td>\n",
       "      <td>126.0</td>\n",
       "      <td>8.3252</td>\n",
       "      <td>452600.0</td>\n",
       "      <td>NEAR BAY</td>\n",
       "      <td>5</td>\n",
       "    </tr>\n",
       "    <tr>\n",
       "      <th>1</th>\n",
       "      <td>-122.22</td>\n",
       "      <td>37.86</td>\n",
       "      <td>21.0</td>\n",
       "      <td>7099.0</td>\n",
       "      <td>1106.0</td>\n",
       "      <td>2401.0</td>\n",
       "      <td>1138.0</td>\n",
       "      <td>8.3014</td>\n",
       "      <td>358500.0</td>\n",
       "      <td>NEAR BAY</td>\n",
       "      <td>5</td>\n",
       "    </tr>\n",
       "    <tr>\n",
       "      <th>2</th>\n",
       "      <td>-122.24</td>\n",
       "      <td>37.85</td>\n",
       "      <td>52.0</td>\n",
       "      <td>1467.0</td>\n",
       "      <td>190.0</td>\n",
       "      <td>496.0</td>\n",
       "      <td>177.0</td>\n",
       "      <td>7.2574</td>\n",
       "      <td>352100.0</td>\n",
       "      <td>NEAR BAY</td>\n",
       "      <td>5</td>\n",
       "    </tr>\n",
       "    <tr>\n",
       "      <th>3</th>\n",
       "      <td>-122.25</td>\n",
       "      <td>37.85</td>\n",
       "      <td>52.0</td>\n",
       "      <td>1274.0</td>\n",
       "      <td>235.0</td>\n",
       "      <td>558.0</td>\n",
       "      <td>219.0</td>\n",
       "      <td>5.6431</td>\n",
       "      <td>341300.0</td>\n",
       "      <td>NEAR BAY</td>\n",
       "      <td>4</td>\n",
       "    </tr>\n",
       "    <tr>\n",
       "      <th>4</th>\n",
       "      <td>-122.25</td>\n",
       "      <td>37.85</td>\n",
       "      <td>52.0</td>\n",
       "      <td>1627.0</td>\n",
       "      <td>280.0</td>\n",
       "      <td>565.0</td>\n",
       "      <td>259.0</td>\n",
       "      <td>3.8462</td>\n",
       "      <td>342200.0</td>\n",
       "      <td>NEAR BAY</td>\n",
       "      <td>3</td>\n",
       "    </tr>\n",
       "    <tr>\n",
       "      <th>...</th>\n",
       "      <td>...</td>\n",
       "      <td>...</td>\n",
       "      <td>...</td>\n",
       "      <td>...</td>\n",
       "      <td>...</td>\n",
       "      <td>...</td>\n",
       "      <td>...</td>\n",
       "      <td>...</td>\n",
       "      <td>...</td>\n",
       "      <td>...</td>\n",
       "      <td>...</td>\n",
       "    </tr>\n",
       "    <tr>\n",
       "      <th>20635</th>\n",
       "      <td>-121.09</td>\n",
       "      <td>39.48</td>\n",
       "      <td>25.0</td>\n",
       "      <td>1665.0</td>\n",
       "      <td>374.0</td>\n",
       "      <td>845.0</td>\n",
       "      <td>330.0</td>\n",
       "      <td>1.5603</td>\n",
       "      <td>78100.0</td>\n",
       "      <td>INLAND</td>\n",
       "      <td>2</td>\n",
       "    </tr>\n",
       "    <tr>\n",
       "      <th>20636</th>\n",
       "      <td>-121.21</td>\n",
       "      <td>39.49</td>\n",
       "      <td>18.0</td>\n",
       "      <td>697.0</td>\n",
       "      <td>150.0</td>\n",
       "      <td>356.0</td>\n",
       "      <td>114.0</td>\n",
       "      <td>2.5568</td>\n",
       "      <td>77100.0</td>\n",
       "      <td>INLAND</td>\n",
       "      <td>2</td>\n",
       "    </tr>\n",
       "    <tr>\n",
       "      <th>20637</th>\n",
       "      <td>-121.22</td>\n",
       "      <td>39.43</td>\n",
       "      <td>17.0</td>\n",
       "      <td>2254.0</td>\n",
       "      <td>485.0</td>\n",
       "      <td>1007.0</td>\n",
       "      <td>433.0</td>\n",
       "      <td>1.7000</td>\n",
       "      <td>92300.0</td>\n",
       "      <td>INLAND</td>\n",
       "      <td>2</td>\n",
       "    </tr>\n",
       "    <tr>\n",
       "      <th>20638</th>\n",
       "      <td>-121.32</td>\n",
       "      <td>39.43</td>\n",
       "      <td>18.0</td>\n",
       "      <td>1860.0</td>\n",
       "      <td>409.0</td>\n",
       "      <td>741.0</td>\n",
       "      <td>349.0</td>\n",
       "      <td>1.8672</td>\n",
       "      <td>84700.0</td>\n",
       "      <td>INLAND</td>\n",
       "      <td>2</td>\n",
       "    </tr>\n",
       "    <tr>\n",
       "      <th>20639</th>\n",
       "      <td>-121.24</td>\n",
       "      <td>39.37</td>\n",
       "      <td>16.0</td>\n",
       "      <td>2785.0</td>\n",
       "      <td>616.0</td>\n",
       "      <td>1387.0</td>\n",
       "      <td>530.0</td>\n",
       "      <td>2.3886</td>\n",
       "      <td>89400.0</td>\n",
       "      <td>INLAND</td>\n",
       "      <td>2</td>\n",
       "    </tr>\n",
       "  </tbody>\n",
       "</table>\n",
       "<p>20640 rows × 11 columns</p>\n",
       "</div>"
      ],
      "text/plain": [
       "       longitude  latitude  housing_median_age  total_rooms  total_bedrooms  \\\n",
       "0        -122.23     37.88                41.0        880.0           129.0   \n",
       "1        -122.22     37.86                21.0       7099.0          1106.0   \n",
       "2        -122.24     37.85                52.0       1467.0           190.0   \n",
       "3        -122.25     37.85                52.0       1274.0           235.0   \n",
       "4        -122.25     37.85                52.0       1627.0           280.0   \n",
       "...          ...       ...                 ...          ...             ...   \n",
       "20635    -121.09     39.48                25.0       1665.0           374.0   \n",
       "20636    -121.21     39.49                18.0        697.0           150.0   \n",
       "20637    -121.22     39.43                17.0       2254.0           485.0   \n",
       "20638    -121.32     39.43                18.0       1860.0           409.0   \n",
       "20639    -121.24     39.37                16.0       2785.0           616.0   \n",
       "\n",
       "       population  households  median_income  median_house_value  \\\n",
       "0           322.0       126.0         8.3252            452600.0   \n",
       "1          2401.0      1138.0         8.3014            358500.0   \n",
       "2           496.0       177.0         7.2574            352100.0   \n",
       "3           558.0       219.0         5.6431            341300.0   \n",
       "4           565.0       259.0         3.8462            342200.0   \n",
       "...           ...         ...            ...                 ...   \n",
       "20635       845.0       330.0         1.5603             78100.0   \n",
       "20636       356.0       114.0         2.5568             77100.0   \n",
       "20637      1007.0       433.0         1.7000             92300.0   \n",
       "20638       741.0       349.0         1.8672             84700.0   \n",
       "20639      1387.0       530.0         2.3886             89400.0   \n",
       "\n",
       "      ocean_proximity income_cat  \n",
       "0            NEAR BAY          5  \n",
       "1            NEAR BAY          5  \n",
       "2            NEAR BAY          5  \n",
       "3            NEAR BAY          4  \n",
       "4            NEAR BAY          3  \n",
       "...               ...        ...  \n",
       "20635          INLAND          2  \n",
       "20636          INLAND          2  \n",
       "20637          INLAND          2  \n",
       "20638          INLAND          2  \n",
       "20639          INLAND          2  \n",
       "\n",
       "[20640 rows x 11 columns]"
      ]
     },
     "execution_count": 8,
     "metadata": {},
     "output_type": "execute_result"
    }
   ],
   "source": [
    "housing_data_frame"
   ]
  },
  {
   "cell_type": "code",
   "execution_count": 9,
   "metadata": {},
   "outputs": [],
   "source": [
    "strat_train_set = None\n",
    "strat_test_set = None"
   ]
  },
  {
   "cell_type": "code",
   "execution_count": 11,
   "metadata": {},
   "outputs": [],
   "source": [
    "from sklearn.model_selection import StratifiedShuffleSplit"
   ]
  },
  {
   "cell_type": "code",
   "execution_count": 12,
   "metadata": {},
   "outputs": [],
   "source": [
    "split = StratifiedShuffleSplit(n_splits=1, test_size=0.2, random_state=42)"
   ]
  },
  {
   "cell_type": "code",
   "execution_count": 13,
   "metadata": {},
   "outputs": [
    {
     "data": {
      "text/plain": [
       "StratifiedShuffleSplit(n_splits=1, random_state=42, test_size=0.2,\n",
       "            train_size=None)"
      ]
     },
     "execution_count": 13,
     "metadata": {},
     "output_type": "execute_result"
    }
   ],
   "source": [
    "split"
   ]
  },
  {
   "cell_type": "code",
   "execution_count": 14,
   "metadata": {},
   "outputs": [
    {
     "name": "stdout",
     "output_type": "stream",
     "text": [
      "[12655 15502  2908 ... 19263 19140 19773] [ 5241 17352  3505 ... 17223 10786  3965]\n"
     ]
    }
   ],
   "source": [
    "for train_index,test_index in split.split(housing_data_frame, housing_data_frame[\"income_cat\"]):\n",
    "    print(train_index,test_index)"
   ]
  },
  {
   "cell_type": "code",
   "execution_count": 15,
   "metadata": {},
   "outputs": [],
   "source": [
    "for train_index,test_index in split.split(housing_data_frame, housing_data_frame[\"income_cat\"]):\n",
    "                strat_train_set = housing_data_frame.loc[train_index].drop([\"income_cat\"],axis=1)\n",
    "                strat_test_set = housing_data_frame.loc[test_index].drop([\"income_cat\"],axis=1)"
   ]
  },
  {
   "cell_type": "code",
   "execution_count": 17,
   "metadata": {},
   "outputs": [
    {
     "data": {
      "text/plain": [
       "16512"
      ]
     },
     "execution_count": 17,
     "metadata": {},
     "output_type": "execute_result"
    }
   ],
   "source": [
    "len(strat_train_set)"
   ]
  },
  {
   "cell_type": "code",
   "execution_count": 18,
   "metadata": {},
   "outputs": [
    {
     "data": {
      "text/plain": [
       "4128"
      ]
     },
     "execution_count": 18,
     "metadata": {},
     "output_type": "execute_result"
    }
   ],
   "source": [
    "len(strat_test_set)"
   ]
  },
  {
   "cell_type": "code",
   "execution_count": 19,
   "metadata": {},
   "outputs": [
    {
     "data": {
      "text/plain": [
       "<generator object BaseShuffleSplit.split at 0x0000026A86FEB648>"
      ]
     },
     "execution_count": 19,
     "metadata": {},
     "output_type": "execute_result"
    }
   ],
   "source": [
    "split.split(housing_data_frame, housing_data_frame[\"income_cat\"])"
   ]
  },
  {
   "cell_type": "code",
   "execution_count": 21,
   "metadata": {},
   "outputs": [
    {
     "name": "stdout",
     "output_type": "stream",
     "text": [
      "Collecting matplotlib\n",
      "  Downloading matplotlib-3.5.3-cp37-cp37m-win_amd64.whl (7.2 MB)\n",
      "     ---------------------------------------- 7.2/7.2 MB 8.8 MB/s eta 0:00:00\n",
      "Collecting cycler>=0.10\n",
      "  Downloading cycler-0.11.0-py3-none-any.whl (6.4 kB)\n",
      "Collecting kiwisolver>=1.0.1\n",
      "  Downloading kiwisolver-1.4.4-cp37-cp37m-win_amd64.whl (54 kB)\n",
      "     ---------------------------------------- 54.9/54.9 kB 3.0 MB/s eta 0:00:00\n",
      "Collecting fonttools>=4.22.0\n",
      "  Downloading fonttools-4.37.1-py3-none-any.whl (957 kB)\n",
      "     ------------------------------------- 957.2/957.2 kB 10.1 MB/s eta 0:00:00\n",
      "Requirement already satisfied: numpy>=1.17 in d:\\ineuron\\projects\\housingprediction\\fsds_first_ml_project\\venv\\lib\\site-packages (from matplotlib) (1.21.6)\n",
      "Requirement already satisfied: python-dateutil>=2.7 in d:\\ineuron\\projects\\housingprediction\\fsds_first_ml_project\\venv\\lib\\site-packages (from matplotlib) (2.8.2)\n",
      "Collecting pyparsing>=2.2.1\n",
      "  Downloading pyparsing-3.0.9-py3-none-any.whl (98 kB)\n",
      "     ---------------------------------------- 98.3/98.3 kB ? eta 0:00:00\n",
      "Collecting packaging>=20.0\n",
      "  Downloading packaging-21.3-py3-none-any.whl (40 kB)\n",
      "     ---------------------------------------- 40.8/40.8 kB ? eta 0:00:00\n",
      "Collecting pillow>=6.2.0\n",
      "  Downloading Pillow-9.2.0-cp37-cp37m-win_amd64.whl (3.3 MB)\n",
      "     ---------------------------------------- 3.3/3.3 MB 9.5 MB/s eta 0:00:00\n",
      "Requirement already satisfied: typing-extensions in d:\\ineuron\\projects\\housingprediction\\fsds_first_ml_project\\venv\\lib\\site-packages (from kiwisolver>=1.0.1->matplotlib) (4.3.0)\n",
      "Requirement already satisfied: six>=1.5 in d:\\ineuron\\projects\\housingprediction\\fsds_first_ml_project\\venv\\lib\\site-packages (from python-dateutil>=2.7->matplotlib) (1.16.0)\n",
      "Installing collected packages: pyparsing, pillow, kiwisolver, fonttools, cycler, packaging, matplotlib\n",
      "Successfully installed cycler-0.11.0 fonttools-4.37.1 kiwisolver-1.4.4 matplotlib-3.5.3 packaging-21.3 pillow-9.2.0 pyparsing-3.0.9\n"
     ]
    }
   ],
   "source": [
    "!pip install matplotlib\n",
    "import matplotlib.pyplot as plt"
   ]
  },
  {
   "cell_type": "code",
   "execution_count": 22,
   "metadata": {},
   "outputs": [
    {
     "data": {
      "text/plain": [
       "<AxesSubplot:ylabel='Frequency'>"
      ]
     },
     "execution_count": 22,
     "metadata": {},
     "output_type": "execute_result"
    },
    {
     "data": {
      "image/png": "[encoded data removed]",
      "text/plain": [
       "<Figure size 640x480 with 1 Axes>"
      ]
     },
     "metadata": {},
     "output_type": "display_data"
    }
   ],
   "source": [
    "housing_data_frame[['median_income']].plot(kind='hist')"
   ]
  },
  {
   "cell_type": "code",
   "execution_count": 24,
   "metadata": {},
   "outputs": [
    {
     "data": {
      "image/png": "[encoded data removed]",
      "text/plain": [
       "<Figure size 640x480 with 1 Axes>"
      ]
     },
     "metadata": {},
     "output_type": "display_data"
    }
   ],
   "source": [
    "plt.pie(housing_data_frame.income_cat.value_counts())\n",
    "plt.show()"
   ]
  },
  {
   "cell_type": "code",
   "execution_count": 25,
   "metadata": {},
   "outputs": [],
   "source": [
    "train_df = housing_data_frame.loc[train_index]\n",
    "test_df = housing_data_frame.loc[test_index]"
   ]
  },
  {
   "cell_type": "code",
   "execution_count": 26,
   "metadata": {},
   "outputs": [
    {
     "data": {
      "image/png": "[encoded data removed]",
      "text/plain": [
       "<Figure size 640x480 with 1 Axes>"
      ]
     },
     "metadata": {},
     "output_type": "display_data"
    }
   ],
   "source": [
    "plt.pie(train_df.income_cat.value_counts())\n",
    "plt.show()"
   ]
  },
  {
   "cell_type": "code",
   "execution_count": 27,
   "metadata": {},
   "outputs": [
    {
     "data": {
      "image/png": "[encoded data removed]",
      "text/plain": [
       "<Figure size 640x480 with 1 Axes>"
      ]
     },
     "metadata": {},
     "output_type": "display_data"
    }
   ],
   "source": [
    "plt.pie(test_df.income_cat.value_counts())\n",
    "plt.show()"
   ]
  },
  {
   "cell_type": "code",
   "execution_count": 28,
   "metadata": {},
   "outputs": [
    {
     "data": {
      "text/plain": [
       "(20640, 11)"
      ]
     },
     "execution_count": 28,
     "metadata": {},
     "output_type": "execute_result"
    }
   ],
   "source": [
    "housing_data_frame.shape"
   ]
  },
  {
   "cell_type": "code",
   "execution_count": 29,
   "metadata": {},
   "outputs": [
    {
     "data": {
      "text/plain": [
       "(16512, 11)"
      ]
     },
     "execution_count": 29,
     "metadata": {},
     "output_type": "execute_result"
    }
   ],
   "source": [
    "train_df.shape"
   ]
  },
  {
   "cell_type": "code",
   "execution_count": 30,
   "metadata": {},
   "outputs": [
    {
     "data": {
      "text/plain": [
       "(4128, 11)"
      ]
     },
     "execution_count": 30,
     "metadata": {},
     "output_type": "execute_result"
    }
   ],
   "source": [
    "test_df.shape"
   ]
  },
  {
   "cell_type": "code",
   "execution_count": 31,
   "metadata": {},
   "outputs": [
    {
     "data": {
      "text/plain": [
       "0.2"
      ]
     },
     "execution_count": 31,
     "metadata": {},
     "output_type": "execute_result"
    }
   ],
   "source": [
    "4128/20640"
   ]
  },
  {
   "cell_type": "code",
   "execution_count": 38,
   "metadata": {},
   "outputs": [],
   "source": [
    "columns = housing_data_frame.columns"
   ]
  },
  {
   "cell_type": "code",
   "execution_count": 33,
   "metadata": {},
   "outputs": [
    {
     "data": {
      "text/plain": [
       "longitude              float64\n",
       "latitude               float64\n",
       "housing_median_age     float64\n",
       "total_rooms            float64\n",
       "total_bedrooms         float64\n",
       "population             float64\n",
       "households             float64\n",
       "median_income          float64\n",
       "median_house_value     float64\n",
       "ocean_proximity         object\n",
       "income_cat            category\n",
       "dtype: object"
      ]
     },
     "execution_count": 33,
     "metadata": {},
     "output_type": "execute_result"
    }
   ],
   "source": [
    "housing_data_frame.dtypes"
   ]
  },
  {
   "cell_type": "code",
   "execution_count": 34,
   "metadata": {},
   "outputs": [
    {
     "data": {
      "text/plain": [
       "Index(['longitude', 'latitude', 'housing_median_age', 'total_rooms',\n",
       "       'total_bedrooms', 'population', 'households', 'median_income',\n",
       "       'median_house_value', 'ocean_proximity', 'income_cat'],\n",
       "      dtype='object')"
      ]
     },
     "execution_count": 34,
     "metadata": {},
     "output_type": "execute_result"
    }
   ],
   "source": [
    "housing_data_frame.dtypes.index"
   ]
  },
  {
   "cell_type": "code",
   "execution_count": 35,
   "metadata": {},
   "outputs": [
    {
     "data": {
      "text/plain": [
       "array([dtype('float64'), dtype('float64'), dtype('float64'),\n",
       "       dtype('float64'), dtype('float64'), dtype('float64'),\n",
       "       dtype('float64'), dtype('float64'), dtype('float64'), dtype('O'),\n",
       "       CategoricalDtype(categories=[1, 2, 3, 4, 5], ordered=True)],\n",
       "      dtype=object)"
      ]
     },
     "execution_count": 35,
     "metadata": {},
     "output_type": "execute_result"
    }
   ],
   "source": [
    "housing_data_frame.dtypes.values"
   ]
  },
  {
   "cell_type": "code",
   "execution_count": 41,
   "metadata": {},
   "outputs": [],
   "source": [
    "data_types = list(map(lambda x:str(x).replace(\"dtype(\", \"\").replace(\")\", \"\"), housing_data_frame.dtypes.values))"
   ]
  },
  {
   "cell_type": "code",
   "execution_count": 40,
   "metadata": {},
   "outputs": [
    {
     "data": {
      "text/plain": [
       "Index(['longitude', 'latitude', 'housing_median_age', 'total_rooms',\n",
       "       'total_bedrooms', 'population', 'households', 'median_income',\n",
       "       'median_house_value', 'ocean_proximity', 'income_cat'],\n",
       "      dtype='object')"
      ]
     },
     "execution_count": 40,
     "metadata": {},
     "output_type": "execute_result"
    }
   ],
   "source": [
    "columns"
   ]
  },
  {
   "cell_type": "code",
   "execution_count": 42,
   "metadata": {},
   "outputs": [
    {
     "data": {
      "text/plain": [
       "['float64',\n",
       " 'float64',\n",
       " 'float64',\n",
       " 'float64',\n",
       " 'float64',\n",
       " 'float64',\n",
       " 'float64',\n",
       " 'float64',\n",
       " 'float64',\n",
       " 'object',\n",
       " 'category']"
      ]
     },
     "execution_count": 42,
     "metadata": {},
     "output_type": "execute_result"
    }
   ],
   "source": [
    "data_types"
   ]
  },
  {
   "cell_type": "code",
   "execution_count": 44,
   "metadata": {},
   "outputs": [
    {
     "data": {
      "text/plain": [
       "{'longitude': 'float64',\n",
       " 'latitude': 'float64',\n",
       " 'housing_median_age': 'float64',\n",
       " 'total_rooms': 'float64',\n",
       " 'total_bedrooms': 'float64',\n",
       " 'population': 'float64',\n",
       " 'households': 'float64',\n",
       " 'median_income': 'float64',\n",
       " 'median_house_value': 'float64',\n",
       " 'ocean_proximity': 'object',\n",
       " 'income_cat': 'category'}"
      ]
     },
     "execution_count": 44,
     "metadata": {},
     "output_type": "execute_result"
    }
   ],
   "source": [
    "dict(zip(columns, data_types))"
   ]
  },
  {
   "cell_type": "code",
   "execution_count": 3,
   "metadata": {},
   "outputs": [
    {
     "data": {
      "text/plain": [
       "'d:\\\\Ineuron\\\\Projects\\\\HousingPrediction\\\\FSDS_first_ml_project'"
      ]
     },
     "execution_count": 3,
     "metadata": {},
     "output_type": "execute_result"
    }
   ],
   "source": [
    "ROOT_DIR = os.getcwd()\n",
    "ROOT_DIR"
   ]
  },
  {
   "cell_type": "code",
   "execution_count": 2,
   "metadata": {},
   "outputs": [],
   "source": [
    "ROOT_DIR = os.chdir(\"..\")\n",
    "ROOT_DIR"
   ]
  },
  {
   "cell_type": "code",
   "execution_count": 4,
   "metadata": {},
   "outputs": [
    {
     "name": "stdout",
     "output_type": "stream",
     "text": [
      "Reading schema info from [d:\\Ineuron\\Projects\\HousingPrediction\\FSDS_first_ml_project\\config\\schema.yaml]\n"
     ]
    }
   ],
   "source": [
    "schema_file_path = os.path.join(ROOT_DIR, \"config\", \"schema.yaml\")\n",
    "print(f\"Reading schema info from [{schema_file_path}]\")\n",
    "            "
   ]
  },
  {
   "cell_type": "code",
   "execution_count": 5,
   "metadata": {},
   "outputs": [
    {
     "name": "stdout",
     "output_type": "stream",
     "text": [
      "Schema Info:{'columns': {'longitude': 'float', 'latitude': 'float', 'housing_median_age': 'float', 'total_rooms': 'float', 'total_bedrooms': 'float', 'population': 'float', 'households': 'float', 'median_income': 'float', 'median_house_value': 'float', 'ocean_proximity': 'category'}, 'numerical_columns': ['longitude', 'latitude', 'housing_median_age', 'total_rooms', 'total_bedrooms', 'population', 'households', 'median_income'], 'categorical_columns': ['ocean_proximity'], 'target_column': 'median_house_value', 'domain_value': {'ocean_proximity': ['<1H OCEAN', 'INLAND', 'ISLAND', 'NEAR BAY', 'NEAR OCEAN']}}\n"
     ]
    }
   ],
   "source": [
    "from housing.util.util import read_yaml_file\n",
    "schema_info = read_yaml_file(file_path = schema_file_path)\n",
    "print(f\"Schema Info:{schema_info}\")"
   ]
  },
  {
   "cell_type": "code",
   "execution_count": 17,
   "metadata": {},
   "outputs": [],
   "source": [
    "from housing.constant import *\n",
    "columns = schema_info[SCHEMA_FILE_COLUMNS_KEY]"
   ]
  },
  {
   "cell_type": "code",
   "execution_count": 18,
   "metadata": {},
   "outputs": [
    {
     "data": {
      "text/plain": [
       "dict"
      ]
     },
     "execution_count": 18,
     "metadata": {},
     "output_type": "execute_result"
    }
   ],
   "source": [
    "type(columns)"
   ]
  },
  {
   "cell_type": "code",
   "execution_count": 20,
   "metadata": {},
   "outputs": [
    {
     "data": {
      "text/plain": [
       "['longitude',\n",
       " 'latitude',\n",
       " 'housing_median_age',\n",
       " 'total_rooms',\n",
       " 'total_bedrooms',\n",
       " 'population',\n",
       " 'households',\n",
       " 'median_income',\n",
       " 'median_house_value',\n",
       " 'ocean_proximity']"
      ]
     },
     "execution_count": 20,
     "metadata": {},
     "output_type": "execute_result"
    }
   ],
   "source": [
    "cols = list(columns.keys())\n",
    "cols"
   ]
  },
  {
   "cell_type": "code",
   "execution_count": 22,
   "metadata": {},
   "outputs": [
    {
     "data": {
      "text/plain": [
       "['float',\n",
       " 'float',\n",
       " 'float',\n",
       " 'float',\n",
       " 'float',\n",
       " 'float',\n",
       " 'float',\n",
       " 'float',\n",
       " 'float',\n",
       " 'category']"
      ]
     },
     "execution_count": 22,
     "metadata": {},
     "output_type": "execute_result"
    }
   ],
   "source": [
    "col_types = list(columns.values())\n",
    "col_types"
   ]
  },
  {
   "cell_type": "code",
   "execution_count": 23,
   "metadata": {},
   "outputs": [
    {
     "data": {
      "text/plain": [
       "['longitude',\n",
       " 'latitude',\n",
       " 'housing_median_age',\n",
       " 'total_rooms',\n",
       " 'total_bedrooms',\n",
       " 'population',\n",
       " 'households',\n",
       " 'median_income']"
      ]
     },
     "execution_count": 23,
     "metadata": {},
     "output_type": "execute_result"
    }
   ],
   "source": [
    "numerical_cols = schema_info[SCHEMA_FILE_NUMERICAL_COLUMNS]\n",
    "numerical_cols"
   ]
  },
  {
   "cell_type": "code",
   "execution_count": 24,
   "metadata": {},
   "outputs": [
    {
     "data": {
      "text/plain": [
       "['ocean_proximity']"
      ]
     },
     "execution_count": 24,
     "metadata": {},
     "output_type": "execute_result"
    }
   ],
   "source": [
    "categorical_cols = schema_info[SCHEMA_FILE_CATEGORICAL_COLUMNS]\n",
    "categorical_cols"
   ]
  },
  {
   "cell_type": "code",
   "execution_count": 25,
   "metadata": {},
   "outputs": [],
   "source": [
    "domain_val = schema_info[SCHEMA_FILE_DOMAIN_VALUES_KEY]"
   ]
  },
  {
   "cell_type": "code",
   "execution_count": 27,
   "metadata": {},
   "outputs": [
    {
     "data": {
      "text/plain": [
       "['<1H OCEAN', 'INLAND', 'ISLAND', 'NEAR BAY', 'NEAR OCEAN']"
      ]
     },
     "execution_count": 27,
     "metadata": {},
     "output_type": "execute_result"
    }
   ],
   "source": [
    "domain_val[categorical_cols[0]]"
   ]
  },
  {
   "cell_type": "code",
   "execution_count": 28,
   "metadata": {},
   "outputs": [],
   "source": [
    "import pandas as pd\n",
    "train_data = pd.read_csv(r\"D:\\Ineuron\\Projects\\HousingPrediction\\FSDS_first_ml_project\\housing\\artifact\\data_ingestion\\2022-09-08-13-47-03\\ingested_data\\train\\housing.csv\")"
   ]
  },
  {
   "cell_type": "code",
   "execution_count": 29,
   "metadata": {},
   "outputs": [
    {
     "data": {
      "text/html": [
       "<div>\n",
       "<style scoped>\n",
       "    .dataframe tbody tr th:only-of-type {\n",
       "        vertical-align: middle;\n",
       "    }\n",
       "\n",
       "    .dataframe tbody tr th {\n",
       "        vertical-align: top;\n",
       "    }\n",
       "\n",
       "    .dataframe thead th {\n",
       "        text-align: right;\n",
       "    }\n",
       "</style>\n",
       "<table border=\"1\" class=\"dataframe\">\n",
       "  <thead>\n",
       "    <tr style=\"text-align: right;\">\n",
       "      <th></th>\n",
       "      <th>longitude</th>\n",
       "      <th>latitude</th>\n",
       "      <th>housing_median_age</th>\n",
       "      <th>total_rooms</th>\n",
       "      <th>total_bedrooms</th>\n",
       "      <th>population</th>\n",
       "      <th>households</th>\n",
       "      <th>median_income</th>\n",
       "      <th>median_house_value</th>\n",
       "      <th>ocean_proximity</th>\n",
       "    </tr>\n",
       "  </thead>\n",
       "  <tbody>\n",
       "    <tr>\n",
       "      <th>0</th>\n",
       "      <td>-121.46</td>\n",
       "      <td>38.52</td>\n",
       "      <td>29.0</td>\n",
       "      <td>3873.0</td>\n",
       "      <td>797.0</td>\n",
       "      <td>2237.0</td>\n",
       "      <td>706.0</td>\n",
       "      <td>2.1736</td>\n",
       "      <td>72100.0</td>\n",
       "      <td>INLAND</td>\n",
       "    </tr>\n",
       "    <tr>\n",
       "      <th>1</th>\n",
       "      <td>-117.23</td>\n",
       "      <td>33.09</td>\n",
       "      <td>7.0</td>\n",
       "      <td>5320.0</td>\n",
       "      <td>855.0</td>\n",
       "      <td>2015.0</td>\n",
       "      <td>768.0</td>\n",
       "      <td>6.3373</td>\n",
       "      <td>279600.0</td>\n",
       "      <td>NEAR OCEAN</td>\n",
       "    </tr>\n",
       "    <tr>\n",
       "      <th>2</th>\n",
       "      <td>-119.04</td>\n",
       "      <td>35.37</td>\n",
       "      <td>44.0</td>\n",
       "      <td>1618.0</td>\n",
       "      <td>310.0</td>\n",
       "      <td>667.0</td>\n",
       "      <td>300.0</td>\n",
       "      <td>2.8750</td>\n",
       "      <td>82700.0</td>\n",
       "      <td>INLAND</td>\n",
       "    </tr>\n",
       "    <tr>\n",
       "      <th>3</th>\n",
       "      <td>-117.13</td>\n",
       "      <td>32.75</td>\n",
       "      <td>24.0</td>\n",
       "      <td>1877.0</td>\n",
       "      <td>519.0</td>\n",
       "      <td>898.0</td>\n",
       "      <td>483.0</td>\n",
       "      <td>2.2264</td>\n",
       "      <td>112500.0</td>\n",
       "      <td>NEAR OCEAN</td>\n",
       "    </tr>\n",
       "    <tr>\n",
       "      <th>4</th>\n",
       "      <td>-118.70</td>\n",
       "      <td>34.28</td>\n",
       "      <td>27.0</td>\n",
       "      <td>3536.0</td>\n",
       "      <td>646.0</td>\n",
       "      <td>1837.0</td>\n",
       "      <td>580.0</td>\n",
       "      <td>4.4964</td>\n",
       "      <td>238300.0</td>\n",
       "      <td>&lt;1H OCEAN</td>\n",
       "    </tr>\n",
       "    <tr>\n",
       "      <th>...</th>\n",
       "      <td>...</td>\n",
       "      <td>...</td>\n",
       "      <td>...</td>\n",
       "      <td>...</td>\n",
       "      <td>...</td>\n",
       "      <td>...</td>\n",
       "      <td>...</td>\n",
       "      <td>...</td>\n",
       "      <td>...</td>\n",
       "      <td>...</td>\n",
       "    </tr>\n",
       "    <tr>\n",
       "      <th>16507</th>\n",
       "      <td>-117.07</td>\n",
       "      <td>33.03</td>\n",
       "      <td>14.0</td>\n",
       "      <td>6665.0</td>\n",
       "      <td>1231.0</td>\n",
       "      <td>2026.0</td>\n",
       "      <td>1001.0</td>\n",
       "      <td>5.0900</td>\n",
       "      <td>268500.0</td>\n",
       "      <td>&lt;1H OCEAN</td>\n",
       "    </tr>\n",
       "    <tr>\n",
       "      <th>16508</th>\n",
       "      <td>-121.42</td>\n",
       "      <td>38.51</td>\n",
       "      <td>15.0</td>\n",
       "      <td>7901.0</td>\n",
       "      <td>1422.0</td>\n",
       "      <td>4769.0</td>\n",
       "      <td>1418.0</td>\n",
       "      <td>2.8139</td>\n",
       "      <td>90400.0</td>\n",
       "      <td>INLAND</td>\n",
       "    </tr>\n",
       "    <tr>\n",
       "      <th>16509</th>\n",
       "      <td>-122.72</td>\n",
       "      <td>38.44</td>\n",
       "      <td>48.0</td>\n",
       "      <td>707.0</td>\n",
       "      <td>166.0</td>\n",
       "      <td>458.0</td>\n",
       "      <td>172.0</td>\n",
       "      <td>3.1797</td>\n",
       "      <td>140400.0</td>\n",
       "      <td>&lt;1H OCEAN</td>\n",
       "    </tr>\n",
       "    <tr>\n",
       "      <th>16510</th>\n",
       "      <td>-122.70</td>\n",
       "      <td>38.31</td>\n",
       "      <td>14.0</td>\n",
       "      <td>3155.0</td>\n",
       "      <td>580.0</td>\n",
       "      <td>1208.0</td>\n",
       "      <td>501.0</td>\n",
       "      <td>4.1964</td>\n",
       "      <td>258100.0</td>\n",
       "      <td>&lt;1H OCEAN</td>\n",
       "    </tr>\n",
       "    <tr>\n",
       "      <th>16511</th>\n",
       "      <td>-122.14</td>\n",
       "      <td>39.97</td>\n",
       "      <td>27.0</td>\n",
       "      <td>1079.0</td>\n",
       "      <td>222.0</td>\n",
       "      <td>625.0</td>\n",
       "      <td>197.0</td>\n",
       "      <td>3.1319</td>\n",
       "      <td>62700.0</td>\n",
       "      <td>INLAND</td>\n",
       "    </tr>\n",
       "  </tbody>\n",
       "</table>\n",
       "<p>16512 rows × 10 columns</p>\n",
       "</div>"
      ],
      "text/plain": [
       "       longitude  latitude  housing_median_age  total_rooms  total_bedrooms  \\\n",
       "0        -121.46     38.52                29.0       3873.0           797.0   \n",
       "1        -117.23     33.09                 7.0       5320.0           855.0   \n",
       "2        -119.04     35.37                44.0       1618.0           310.0   \n",
       "3        -117.13     32.75                24.0       1877.0           519.0   \n",
       "4        -118.70     34.28                27.0       3536.0           646.0   \n",
       "...          ...       ...                 ...          ...             ...   \n",
       "16507    -117.07     33.03                14.0       6665.0          1231.0   \n",
       "16508    -121.42     38.51                15.0       7901.0          1422.0   \n",
       "16509    -122.72     38.44                48.0        707.0           166.0   \n",
       "16510    -122.70     38.31                14.0       3155.0           580.0   \n",
       "16511    -122.14     39.97                27.0       1079.0           222.0   \n",
       "\n",
       "       population  households  median_income  median_house_value  \\\n",
       "0          2237.0       706.0         2.1736             72100.0   \n",
       "1          2015.0       768.0         6.3373            279600.0   \n",
       "2           667.0       300.0         2.8750             82700.0   \n",
       "3           898.0       483.0         2.2264            112500.0   \n",
       "4          1837.0       580.0         4.4964            238300.0   \n",
       "...           ...         ...            ...                 ...   \n",
       "16507      2026.0      1001.0         5.0900            268500.0   \n",
       "16508      4769.0      1418.0         2.8139             90400.0   \n",
       "16509       458.0       172.0         3.1797            140400.0   \n",
       "16510      1208.0       501.0         4.1964            258100.0   \n",
       "16511       625.0       197.0         3.1319             62700.0   \n",
       "\n",
       "      ocean_proximity  \n",
       "0              INLAND  \n",
       "1          NEAR OCEAN  \n",
       "2              INLAND  \n",
       "3          NEAR OCEAN  \n",
       "4           <1H OCEAN  \n",
       "...               ...  \n",
       "16507       <1H OCEAN  \n",
       "16508          INLAND  \n",
       "16509       <1H OCEAN  \n",
       "16510       <1H OCEAN  \n",
       "16511          INLAND  \n",
       "\n",
       "[16512 rows x 10 columns]"
      ]
     },
     "execution_count": 29,
     "metadata": {},
     "output_type": "execute_result"
    }
   ],
   "source": [
    "train_data"
   ]
  },
  {
   "cell_type": "code",
   "execution_count": 33,
   "metadata": {},
   "outputs": [],
   "source": [
    "data_columns = list(train_data.columns)"
   ]
  },
  {
   "cell_type": "code",
   "execution_count": 37,
   "metadata": {},
   "outputs": [
    {
     "data": {
      "text/plain": [
       "True"
      ]
     },
     "execution_count": 37,
     "metadata": {},
     "output_type": "execute_result"
    }
   ],
   "source": [
    "cols == data_columns"
   ]
  },
  {
   "cell_type": "code",
   "execution_count": 36,
   "metadata": {},
   "outputs": [
    {
     "data": {
      "text/plain": [
       "['longitude',\n",
       " 'latitude',\n",
       " 'housing_median_age',\n",
       " 'total_rooms',\n",
       " 'total_bedrooms',\n",
       " 'population',\n",
       " 'households',\n",
       " 'median_income',\n",
       " 'median_house_value',\n",
       " 'ocean_proximity']"
      ]
     },
     "execution_count": 36,
     "metadata": {},
     "output_type": "execute_result"
    }
   ],
   "source": [
    "cols"
   ]
  },
  {
   "cell_type": "code",
   "execution_count": 57,
   "metadata": {},
   "outputs": [
    {
     "data": {
      "text/plain": [
       "array([dtype('float64'), dtype('float64'), dtype('float64'),\n",
       "       dtype('float64'), dtype('float64'), dtype('float64'),\n",
       "       dtype('float64'), dtype('float64'), dtype('float64'), dtype('O')],\n",
       "      dtype=object)"
      ]
     },
     "execution_count": 57,
     "metadata": {},
     "output_type": "execute_result"
    }
   ],
   "source": [
    "train_data.dtypes.values"
   ]
  },
  {
   "cell_type": "code",
   "execution_count": 58,
   "metadata": {},
   "outputs": [],
   "source": [
    "file_data_types = list(map(lambda x:str(x).replace(\"dtype\", \"\"), train_data.dtypes.values))"
   ]
  },
  {
   "cell_type": "code",
   "execution_count": 60,
   "metadata": {},
   "outputs": [],
   "source": [
    "file_data_types = list(map(lambda x:str(x).replace(\"64\", \"\"), file_data_types))"
   ]
  },
  {
   "cell_type": "code",
   "execution_count": 61,
   "metadata": {},
   "outputs": [
    {
     "data": {
      "text/plain": [
       "['float',\n",
       " 'float',\n",
       " 'float',\n",
       " 'float',\n",
       " 'float',\n",
       " 'float',\n",
       " 'float',\n",
       " 'float',\n",
       " 'float',\n",
       " 'object']"
      ]
     },
     "execution_count": 61,
     "metadata": {},
     "output_type": "execute_result"
    }
   ],
   "source": [
    "file_data_types"
   ]
  },
  {
   "cell_type": "code",
   "execution_count": 1,
   "metadata": {},
   "outputs": [],
   "source": [
    "report = {'data_drift': {'name': 'data_drift', 'datetime': '2022-09-11 22:52:41.979911', 'data': {'utility_columns': {'date': None, 'id': None, 'target': None, 'prediction': None}, 'cat_feature_names': ['ocean_proximity'], 'num_feature_names': ['households', 'housing_median_age', 'latitude', 'longitude', 'median_house_value', 'median_income', 'population', 'total_bedrooms', 'total_rooms'], 'datetime_feature_names': [], 'target_names': None, 'options': {'confidence': None, 'drift_share': 0.5, 'nbinsx': 10, 'xbins': None}, 'metrics': {'n_features': 10, 'n_drifted_features': 0, 'share_drifted_features': 0.0, 'dataset_drift': False, 'households': {'current_small_hist': [[0.0012289677212922701, 0.0003362232598932499, 5.377978683126627e-05, 1.593475165370853e-05, 4.780425496112559e-06, 1.195106374028139e-06, 1.1951063740281406e-06, 1.5934751653708517e-06, 3.983687913427129e-07, 3.9836879134271355e-07], [1.0, 609.1, 1217.2, 1825.3000000000002, 2433.4, 3041.5, 3649.6000000000004, 4257.7, 4865.8, 5473.900000000001, 6082.0]], 'ref_small_hist': [[0.0012811195587358378, 0.00047162839183470247, 8.062120435822172e-05, 1.9222447041932257e-05, 7.688978816772902e-06, 3.61834297259901e-06, 1.583025050512068e-06, 1.0176589610434724e-06, 2.2614643578743813e-07, 3.3921965368115775e-07], [2.0, 537.6, 1073.2, 1608.8000000000002, 2144.4, 2680.0, 3215.6000000000004, 3751.2000000000003, 4286.8, 4822.400000000001, 5358.0]], 'feature_type': 'num', 'stattest_name': 'Wasserstein distance (normed)', 'drift_score': 0.035700151073703966, 'drift_detected': False}, 'housing_median_age': {'current_small_hist': [[0.007124943000455997, 0.010164918680650555, 0.021612327101383198, 0.02498480012159902, 0.025127298981608138, 0.021944824441404477, 0.032347241222070236, 0.017954856361149105, 0.016387368901048787, 0.018429852561179506], [1.0, 6.1, 11.2, 16.299999999999997, 21.4, 26.5, 31.599999999999998, 36.699999999999996, 41.8, 46.9, 52.0]], 'ref_small_hist': [[0.006756820945432437, 0.010568665450676395, 0.021137330901352797, 0.02559042027663778, 0.023524186806505542, 0.022467320261437915, 0.034128476972184234, 0.018073605411156705, 0.015093004255965946, 0.018738600091199265], [1.0, 6.1, 11.2, 16.299999999999997, 21.4, 26.5, 31.599999999999998, 36.699999999999996, 41.8, 46.9, 52.0]], 'feature_type': 'num', 'stattest_name': 'Wasserstein distance (normed)', 'drift_score': 0.012931712243276685, 'drift_detected': False}, 'latitude': {'current_small_hist': [[0.09045645719940645, 0.47496082797294825, 0.03427552366815116, 0.024482516905822076, 0.06726249381494326, 0.23864011215569908, 0.08607537522678498, 0.0291213095827149, 0.015462642256308678, 0.0030925284512617595], [32.55, 33.489999999999995, 34.43, 35.37, 36.31, 37.25, 38.19, 39.13, 40.07, 41.010000000000005, 41.95]], 'ref_small_hist': [[0.09299905675143523, 0.4597821878423932, 0.0395165542182569, 0.024392140144494083, 0.06635434429808285, 0.24366396460964457, 0.09048904760727883, 0.02426342172684504, 0.016990831129674106, 0.0042477077824184944], [32.54, 33.481, 34.422, 35.363, 36.304, 37.245000000000005, 38.186, 39.127, 40.068000000000005, 41.009, 41.95]], 'feature_type': 'num', 'stattest_name': 'Wasserstein distance (normed)', 'drift_score': 0.019211368524658438, 'drift_detected': False}, 'longitude': {'current_small_hist': [[0.010576318715853563, 0.11306588341472024, 0.20095005560122067, 0.0727751454495638, 0.051874325130138906, 0.09443141710583539, 0.3548103112056588, 0.12641219036568016, 0.010576318715853563, 0.004029073796515644], [-124.18, -123.218, -122.256, -121.29400000000001, -120.33200000000001, -119.37, -118.408, -117.446, -116.48400000000001, -115.522, -114.56]], 'ref_small_hist': [[0.009289392816331527, 0.07431514253065329, 0.22107548488217565, 0.08149330970690956, 0.05344416906019307, 0.14042666543129737, 0.2976828152506281, 0.10779314910898988, 0.009168751351184496, 0.0013270561166187896], [-124.35, -123.34599999999999, -122.342, -121.338, -120.334, -119.33, -118.326, -117.322, -116.318, -115.31400000000001, -114.31]], 'feature_type': 'num', 'stattest_name': 'Wasserstein distance (normed)', 'drift_score': 0.017067342089880935, 'drift_detected': False}, 'median_house_value': {'current_small_hist': [[9.040560497648711e-07, 3.6062346294488233e-06, 4.0357861227072715e-06, 3.6411981230861374e-06, 2.8270481998172206e-06, 1.8680495171937134e-06, 1.4384980239352643e-06, 6.892803031356474e-07, 4.695097717010932e-07, 1.1388109356154175e-06], [14999.0, 63499.2, 111999.4, 160499.59999999998, 208999.8, 257500.0, 306000.19999999995, 354500.39999999997, 403000.6, 451500.8, 500001.0]], 'ref_small_hist': [[8.690925561275557e-07, 3.608732021851488e-06, 4.1094591985859e-06, 3.7985338444540568e-06, 2.788338617575907e-06, 1.741931200859111e-06, 1.1875100874673925e-06, 7.666994676182744e-07, 4.807480375130874e-07, 1.267426644352685e-06], [14999.0, 63499.2, 111999.4, 160499.59999999998, 208999.8, 257500.0, 306000.19999999995, 354500.39999999997, 403000.6, 451500.8, 500001.0]], 'feature_type': 'num', 'stattest_name': 'Wasserstein distance (normed)', 'drift_score': 0.02228974409485374, 'drift_detected': False}, 'median_income': {'current_small_hist': [[0.07668298400374911, 0.2499297256418489, 0.20181491214930058, 0.09840147620524665, 0.03725556739179967, 0.014701748567167598, 0.005346090388060939, 0.0018377185708959476, 0.001503587921642139, 0.0021718492201497565], [0.4999, 1.9499199999999999, 3.39994, 4.849959999999999, 6.29998, 7.75, 9.200019999999999, 10.650039999999999, 12.10006, 13.55008, 15.0001]], 'ref_small_hist': [[0.07467820010822626, 0.24809200707095297, 0.20423735935639067, 0.10028096110729932, 0.03495841917817973, 0.014200552593286887, 0.006097884348882008, 0.003424839154851539, 0.0015871205839555912, 0.0020883165578363043], [0.4999, 1.9499199999999999, 3.39994, 4.849959999999999, 6.29998, 7.75, 9.200019999999999, 10.650039999999999, 12.10006, 13.55008, 15.0001]], 'feature_type': 'num', 'stattest_name': 'Wasserstein distance (normed)', 'drift_score': 0.014875291032601044, 'drift_detected': False}, 'population': {'current_small_hist': [[0.00032298610698331244, 2.340970733387454e-05, 2.374897845465533e-06, 9.329955821471735e-07, 3.3927112078079034e-07, 0.0, 0.0, 0.0, 0.0, 8.481778019519753e-08], [5.0, 2861.1, 5717.2, 8573.3, 11429.4, 14285.5, 17141.6, 19997.7, 22853.8, 25709.899999999998, 28566.0]], 'ref_small_hist': [[0.0002692437259795624, 9.539463749874798e-06, 1.2730601089690566e-06, 1.3579307829003273e-07, 6.789653914501637e-08, 0.0, 0.0, 0.0, 0.0, 1.69741347862541e-08], [3.0, 3570.9, 7138.8, 10706.7, 14274.6, 17842.5, 21410.4, 24978.3, 28546.2, 32114.100000000002, 35682.0]], 'feature_type': 'num', 'stattest_name': 'Wasserstein distance (normed)', 'drift_score': 0.027367276747562647, 'drift_detected': False}, 'total_bedrooms': {'current_small_hist': [[0.0011519844949278444, 0.0003188120894153017, 5.36426069302596e-05, 1.5217760831279314e-05, 5.32621629094776e-06, 2.282664124691899e-06, 2.2826641246918955e-06, 1.5217760831279326e-06, 3.8044402078198315e-07, 3.8044402078198257e-07], [1.0, 645.4, 1289.8, 1934.1999999999998, 2578.6, 3223.0, 3867.3999999999996, 4511.8, 5156.2, 5800.599999999999, 6445.0]], 'ref_small_hist': [[0.0011760576875798224, 0.00034946839828586346, 6.028034378549843e-05, 1.4183610302470219e-05, 6.796313269933644e-06, 1.969945875343087e-06, 1.0834702314386976e-06, 5.909837626029256e-07, 2.954918813014628e-07, 9.849729376715426e-08], [2.0, 622.8, 1243.6, 1864.3999999999999, 2485.2, 3106.0, 3726.7999999999997, 4347.599999999999, 4968.4, 5589.2, 6210.0]], 'feature_type': 'num', 'stattest_name': 'Wasserstein distance (normed)', 'drift_score': 0.03767772655978998, 'drift_detected': False}, 'total_rooms': {'current_small_hist': [[0.00023560248299622799, 5.7545516647361075e-05, 8.836021265852862e-06, 1.7820547090795688e-06, 8.910273545397844e-07, 9.652796340847665e-07, 2.9700911817992813e-07, 2.9700911817992813e-07, 1.4850455908996406e-07, 1.4850455908996406e-07], [2.0, 3264.5, 6527.0, 9789.5, 13052.0, 16314.5, 19577.0, 22839.5, 26102.0, 29364.5, 32627.0]], 'ref_small_hist': [[0.00021628190916071083, 3.133314837841067e-05, 4.5905989266304715e-06, 1.2939943283119455e-06, 5.391643034633106e-07, 1.694516382313261e-07, 4.621408315399807e-08, 6.161877753866404e-08, 1.540469438466602e-08, 3.080938876933202e-08], [6.0, 3937.4, 7868.8, 11800.2, 15731.6, 19663.0, 23594.4, 27525.8, 31457.2, 35388.6, 39320.0]], 'feature_type': 'num', 'stattest_name': 'Wasserstein distance (normed)', 'drift_score': 0.03322548046220158, 'drift_detected': False}, 'ocean_proximity': {'current_small_hist': [[1859, 1289, 3, 443, 534], ['<1H OCEAN', 'INLAND', 'ISLAND', 'NEAR BAY', 'NEAR OCEAN']], 'ref_small_hist': [[7277, 5262, 2, 1847, 2124], ['<1H OCEAN', 'INLAND', 'ISLAND', 'NEAR BAY', 'NEAR OCEAN']], 'feature_type': 'cat', 'stattest_name': 'Jensen-Shannon distance', 'drift_score': 0.01365204793442218, 'drift_detected': False}}}}, 'timestamp': '2022-09-11 22:52:41.980852'}"
   ]
  },
  {
   "cell_type": "code",
   "execution_count": 2,
   "metadata": {},
   "outputs": [
    {
     "data": {
      "text/plain": [
       "dict_keys(['data_drift', 'timestamp'])"
      ]
     },
     "execution_count": 2,
     "metadata": {},
     "output_type": "execute_result"
    }
   ],
   "source": [
    "report.keys()"
   ]
  },
  {
   "cell_type": "code",
   "execution_count": 3,
   "metadata": {},
   "outputs": [
    {
     "data": {
      "text/plain": [
       "dict_keys(['name', 'datetime', 'data'])"
      ]
     },
     "execution_count": 3,
     "metadata": {},
     "output_type": "execute_result"
    }
   ],
   "source": [
    "report['data_drift'].keys()"
   ]
  },
  {
   "cell_type": "code",
   "execution_count": 4,
   "metadata": {},
   "outputs": [
    {
     "data": {
      "text/plain": [
       "dict_keys(['utility_columns', 'cat_feature_names', 'num_feature_names', 'datetime_feature_names', 'target_names', 'options', 'metrics'])"
      ]
     },
     "execution_count": 4,
     "metadata": {},
     "output_type": "execute_result"
    }
   ],
   "source": [
    "report['data_drift']['data'].keys()"
   ]
  },
  {
   "cell_type": "code",
   "execution_count": 6,
   "metadata": {},
   "outputs": [
    {
     "data": {
      "text/plain": [
       "{'n_features': 10,\n",
       " 'n_drifted_features': 0,\n",
       " 'share_drifted_features': 0.0,\n",
       " 'dataset_drift': False,\n",
       " 'households': {'current_small_hist': [[0.0012289677212922701,\n",
       "    0.0003362232598932499,\n",
       "    5.377978683126627e-05,\n",
       "    1.593475165370853e-05,\n",
       "    4.780425496112559e-06,\n",
       "    1.195106374028139e-06,\n",
       "    1.1951063740281406e-06,\n",
       "    1.5934751653708517e-06,\n",
       "    3.983687913427129e-07,\n",
       "    3.9836879134271355e-07],\n",
       "   [1.0,\n",
       "    609.1,\n",
       "    1217.2,\n",
       "    1825.3000000000002,\n",
       "    2433.4,\n",
       "    3041.5,\n",
       "    3649.6000000000004,\n",
       "    4257.7,\n",
       "    4865.8,\n",
       "    5473.900000000001,\n",
       "    6082.0]],\n",
       "  'ref_small_hist': [[0.0012811195587358378,\n",
       "    0.00047162839183470247,\n",
       "    8.062120435822172e-05,\n",
       "    1.9222447041932257e-05,\n",
       "    7.688978816772902e-06,\n",
       "    3.61834297259901e-06,\n",
       "    1.583025050512068e-06,\n",
       "    1.0176589610434724e-06,\n",
       "    2.2614643578743813e-07,\n",
       "    3.3921965368115775e-07],\n",
       "   [2.0,\n",
       "    537.6,\n",
       "    1073.2,\n",
       "    1608.8000000000002,\n",
       "    2144.4,\n",
       "    2680.0,\n",
       "    3215.6000000000004,\n",
       "    3751.2000000000003,\n",
       "    4286.8,\n",
       "    4822.400000000001,\n",
       "    5358.0]],\n",
       "  'feature_type': 'num',\n",
       "  'stattest_name': 'Wasserstein distance (normed)',\n",
       "  'drift_score': 0.035700151073703966,\n",
       "  'drift_detected': False},\n",
       " 'housing_median_age': {'current_small_hist': [[0.007124943000455997,\n",
       "    0.010164918680650555,\n",
       "    0.021612327101383198,\n",
       "    0.02498480012159902,\n",
       "    0.025127298981608138,\n",
       "    0.021944824441404477,\n",
       "    0.032347241222070236,\n",
       "    0.017954856361149105,\n",
       "    0.016387368901048787,\n",
       "    0.018429852561179506],\n",
       "   [1.0,\n",
       "    6.1,\n",
       "    11.2,\n",
       "    16.299999999999997,\n",
       "    21.4,\n",
       "    26.5,\n",
       "    31.599999999999998,\n",
       "    36.699999999999996,\n",
       "    41.8,\n",
       "    46.9,\n",
       "    52.0]],\n",
       "  'ref_small_hist': [[0.006756820945432437,\n",
       "    0.010568665450676395,\n",
       "    0.021137330901352797,\n",
       "    0.02559042027663778,\n",
       "    0.023524186806505542,\n",
       "    0.022467320261437915,\n",
       "    0.034128476972184234,\n",
       "    0.018073605411156705,\n",
       "    0.015093004255965946,\n",
       "    0.018738600091199265],\n",
       "   [1.0,\n",
       "    6.1,\n",
       "    11.2,\n",
       "    16.299999999999997,\n",
       "    21.4,\n",
       "    26.5,\n",
       "    31.599999999999998,\n",
       "    36.699999999999996,\n",
       "    41.8,\n",
       "    46.9,\n",
       "    52.0]],\n",
       "  'feature_type': 'num',\n",
       "  'stattest_name': 'Wasserstein distance (normed)',\n",
       "  'drift_score': 0.012931712243276685,\n",
       "  'drift_detected': False},\n",
       " 'latitude': {'current_small_hist': [[0.09045645719940645,\n",
       "    0.47496082797294825,\n",
       "    0.03427552366815116,\n",
       "    0.024482516905822076,\n",
       "    0.06726249381494326,\n",
       "    0.23864011215569908,\n",
       "    0.08607537522678498,\n",
       "    0.0291213095827149,\n",
       "    0.015462642256308678,\n",
       "    0.0030925284512617595],\n",
       "   [32.55,\n",
       "    33.489999999999995,\n",
       "    34.43,\n",
       "    35.37,\n",
       "    36.31,\n",
       "    37.25,\n",
       "    38.19,\n",
       "    39.13,\n",
       "    40.07,\n",
       "    41.010000000000005,\n",
       "    41.95]],\n",
       "  'ref_small_hist': [[0.09299905675143523,\n",
       "    0.4597821878423932,\n",
       "    0.0395165542182569,\n",
       "    0.024392140144494083,\n",
       "    0.06635434429808285,\n",
       "    0.24366396460964457,\n",
       "    0.09048904760727883,\n",
       "    0.02426342172684504,\n",
       "    0.016990831129674106,\n",
       "    0.0042477077824184944],\n",
       "   [32.54,\n",
       "    33.481,\n",
       "    34.422,\n",
       "    35.363,\n",
       "    36.304,\n",
       "    37.245000000000005,\n",
       "    38.186,\n",
       "    39.127,\n",
       "    40.068000000000005,\n",
       "    41.009,\n",
       "    41.95]],\n",
       "  'feature_type': 'num',\n",
       "  'stattest_name': 'Wasserstein distance (normed)',\n",
       "  'drift_score': 0.019211368524658438,\n",
       "  'drift_detected': False},\n",
       " 'longitude': {'current_small_hist': [[0.010576318715853563,\n",
       "    0.11306588341472024,\n",
       "    0.20095005560122067,\n",
       "    0.0727751454495638,\n",
       "    0.051874325130138906,\n",
       "    0.09443141710583539,\n",
       "    0.3548103112056588,\n",
       "    0.12641219036568016,\n",
       "    0.010576318715853563,\n",
       "    0.004029073796515644],\n",
       "   [-124.18,\n",
       "    -123.218,\n",
       "    -122.256,\n",
       "    -121.29400000000001,\n",
       "    -120.33200000000001,\n",
       "    -119.37,\n",
       "    -118.408,\n",
       "    -117.446,\n",
       "    -116.48400000000001,\n",
       "    -115.522,\n",
       "    -114.56]],\n",
       "  'ref_small_hist': [[0.009289392816331527,\n",
       "    0.07431514253065329,\n",
       "    0.22107548488217565,\n",
       "    0.08149330970690956,\n",
       "    0.05344416906019307,\n",
       "    0.14042666543129737,\n",
       "    0.2976828152506281,\n",
       "    0.10779314910898988,\n",
       "    0.009168751351184496,\n",
       "    0.0013270561166187896],\n",
       "   [-124.35,\n",
       "    -123.34599999999999,\n",
       "    -122.342,\n",
       "    -121.338,\n",
       "    -120.334,\n",
       "    -119.33,\n",
       "    -118.326,\n",
       "    -117.322,\n",
       "    -116.318,\n",
       "    -115.31400000000001,\n",
       "    -114.31]],\n",
       "  'feature_type': 'num',\n",
       "  'stattest_name': 'Wasserstein distance (normed)',\n",
       "  'drift_score': 0.017067342089880935,\n",
       "  'drift_detected': False},\n",
       " 'median_house_value': {'current_small_hist': [[9.040560497648711e-07,\n",
       "    3.6062346294488233e-06,\n",
       "    4.0357861227072715e-06,\n",
       "    3.6411981230861374e-06,\n",
       "    2.8270481998172206e-06,\n",
       "    1.8680495171937134e-06,\n",
       "    1.4384980239352643e-06,\n",
       "    6.892803031356474e-07,\n",
       "    4.695097717010932e-07,\n",
       "    1.1388109356154175e-06],\n",
       "   [14999.0,\n",
       "    63499.2,\n",
       "    111999.4,\n",
       "    160499.59999999998,\n",
       "    208999.8,\n",
       "    257500.0,\n",
       "    306000.19999999995,\n",
       "    354500.39999999997,\n",
       "    403000.6,\n",
       "    451500.8,\n",
       "    500001.0]],\n",
       "  'ref_small_hist': [[8.690925561275557e-07,\n",
       "    3.608732021851488e-06,\n",
       "    4.1094591985859e-06,\n",
       "    3.7985338444540568e-06,\n",
       "    2.788338617575907e-06,\n",
       "    1.741931200859111e-06,\n",
       "    1.1875100874673925e-06,\n",
       "    7.666994676182744e-07,\n",
       "    4.807480375130874e-07,\n",
       "    1.267426644352685e-06],\n",
       "   [14999.0,\n",
       "    63499.2,\n",
       "    111999.4,\n",
       "    160499.59999999998,\n",
       "    208999.8,\n",
       "    257500.0,\n",
       "    306000.19999999995,\n",
       "    354500.39999999997,\n",
       "    403000.6,\n",
       "    451500.8,\n",
       "    500001.0]],\n",
       "  'feature_type': 'num',\n",
       "  'stattest_name': 'Wasserstein distance (normed)',\n",
       "  'drift_score': 0.02228974409485374,\n",
       "  'drift_detected': False},\n",
       " 'median_income': {'current_small_hist': [[0.07668298400374911,\n",
       "    0.2499297256418489,\n",
       "    0.20181491214930058,\n",
       "    0.09840147620524665,\n",
       "    0.03725556739179967,\n",
       "    0.014701748567167598,\n",
       "    0.005346090388060939,\n",
       "    0.0018377185708959476,\n",
       "    0.001503587921642139,\n",
       "    0.0021718492201497565],\n",
       "   [0.4999,\n",
       "    1.9499199999999999,\n",
       "    3.39994,\n",
       "    4.849959999999999,\n",
       "    6.29998,\n",
       "    7.75,\n",
       "    9.200019999999999,\n",
       "    10.650039999999999,\n",
       "    12.10006,\n",
       "    13.55008,\n",
       "    15.0001]],\n",
       "  'ref_small_hist': [[0.07467820010822626,\n",
       "    0.24809200707095297,\n",
       "    0.20423735935639067,\n",
       "    0.10028096110729932,\n",
       "    0.03495841917817973,\n",
       "    0.014200552593286887,\n",
       "    0.006097884348882008,\n",
       "    0.003424839154851539,\n",
       "    0.0015871205839555912,\n",
       "    0.0020883165578363043],\n",
       "   [0.4999,\n",
       "    1.9499199999999999,\n",
       "    3.39994,\n",
       "    4.849959999999999,\n",
       "    6.29998,\n",
       "    7.75,\n",
       "    9.200019999999999,\n",
       "    10.650039999999999,\n",
       "    12.10006,\n",
       "    13.55008,\n",
       "    15.0001]],\n",
       "  'feature_type': 'num',\n",
       "  'stattest_name': 'Wasserstein distance (normed)',\n",
       "  'drift_score': 0.014875291032601044,\n",
       "  'drift_detected': False},\n",
       " 'population': {'current_small_hist': [[0.00032298610698331244,\n",
       "    2.340970733387454e-05,\n",
       "    2.374897845465533e-06,\n",
       "    9.329955821471735e-07,\n",
       "    3.3927112078079034e-07,\n",
       "    0.0,\n",
       "    0.0,\n",
       "    0.0,\n",
       "    0.0,\n",
       "    8.481778019519753e-08],\n",
       "   [5.0,\n",
       "    2861.1,\n",
       "    5717.2,\n",
       "    8573.3,\n",
       "    11429.4,\n",
       "    14285.5,\n",
       "    17141.6,\n",
       "    19997.7,\n",
       "    22853.8,\n",
       "    25709.899999999998,\n",
       "    28566.0]],\n",
       "  'ref_small_hist': [[0.0002692437259795624,\n",
       "    9.539463749874798e-06,\n",
       "    1.2730601089690566e-06,\n",
       "    1.3579307829003273e-07,\n",
       "    6.789653914501637e-08,\n",
       "    0.0,\n",
       "    0.0,\n",
       "    0.0,\n",
       "    0.0,\n",
       "    1.69741347862541e-08],\n",
       "   [3.0,\n",
       "    3570.9,\n",
       "    7138.8,\n",
       "    10706.7,\n",
       "    14274.6,\n",
       "    17842.5,\n",
       "    21410.4,\n",
       "    24978.3,\n",
       "    28546.2,\n",
       "    32114.100000000002,\n",
       "    35682.0]],\n",
       "  'feature_type': 'num',\n",
       "  'stattest_name': 'Wasserstein distance (normed)',\n",
       "  'drift_score': 0.027367276747562647,\n",
       "  'drift_detected': False},\n",
       " 'total_bedrooms': {'current_small_hist': [[0.0011519844949278444,\n",
       "    0.0003188120894153017,\n",
       "    5.36426069302596e-05,\n",
       "    1.5217760831279314e-05,\n",
       "    5.32621629094776e-06,\n",
       "    2.282664124691899e-06,\n",
       "    2.2826641246918955e-06,\n",
       "    1.5217760831279326e-06,\n",
       "    3.8044402078198315e-07,\n",
       "    3.8044402078198257e-07],\n",
       "   [1.0,\n",
       "    645.4,\n",
       "    1289.8,\n",
       "    1934.1999999999998,\n",
       "    2578.6,\n",
       "    3223.0,\n",
       "    3867.3999999999996,\n",
       "    4511.8,\n",
       "    5156.2,\n",
       "    5800.599999999999,\n",
       "    6445.0]],\n",
       "  'ref_small_hist': [[0.0011760576875798224,\n",
       "    0.00034946839828586346,\n",
       "    6.028034378549843e-05,\n",
       "    1.4183610302470219e-05,\n",
       "    6.796313269933644e-06,\n",
       "    1.969945875343087e-06,\n",
       "    1.0834702314386976e-06,\n",
       "    5.909837626029256e-07,\n",
       "    2.954918813014628e-07,\n",
       "    9.849729376715426e-08],\n",
       "   [2.0,\n",
       "    622.8,\n",
       "    1243.6,\n",
       "    1864.3999999999999,\n",
       "    2485.2,\n",
       "    3106.0,\n",
       "    3726.7999999999997,\n",
       "    4347.599999999999,\n",
       "    4968.4,\n",
       "    5589.2,\n",
       "    6210.0]],\n",
       "  'feature_type': 'num',\n",
       "  'stattest_name': 'Wasserstein distance (normed)',\n",
       "  'drift_score': 0.03767772655978998,\n",
       "  'drift_detected': False},\n",
       " 'total_rooms': {'current_small_hist': [[0.00023560248299622799,\n",
       "    5.7545516647361075e-05,\n",
       "    8.836021265852862e-06,\n",
       "    1.7820547090795688e-06,\n",
       "    8.910273545397844e-07,\n",
       "    9.652796340847665e-07,\n",
       "    2.9700911817992813e-07,\n",
       "    2.9700911817992813e-07,\n",
       "    1.4850455908996406e-07,\n",
       "    1.4850455908996406e-07],\n",
       "   [2.0,\n",
       "    3264.5,\n",
       "    6527.0,\n",
       "    9789.5,\n",
       "    13052.0,\n",
       "    16314.5,\n",
       "    19577.0,\n",
       "    22839.5,\n",
       "    26102.0,\n",
       "    29364.5,\n",
       "    32627.0]],\n",
       "  'ref_small_hist': [[0.00021628190916071083,\n",
       "    3.133314837841067e-05,\n",
       "    4.5905989266304715e-06,\n",
       "    1.2939943283119455e-06,\n",
       "    5.391643034633106e-07,\n",
       "    1.694516382313261e-07,\n",
       "    4.621408315399807e-08,\n",
       "    6.161877753866404e-08,\n",
       "    1.540469438466602e-08,\n",
       "    3.080938876933202e-08],\n",
       "   [6.0,\n",
       "    3937.4,\n",
       "    7868.8,\n",
       "    11800.2,\n",
       "    15731.6,\n",
       "    19663.0,\n",
       "    23594.4,\n",
       "    27525.8,\n",
       "    31457.2,\n",
       "    35388.6,\n",
       "    39320.0]],\n",
       "  'feature_type': 'num',\n",
       "  'stattest_name': 'Wasserstein distance (normed)',\n",
       "  'drift_score': 0.03322548046220158,\n",
       "  'drift_detected': False},\n",
       " 'ocean_proximity': {'current_small_hist': [[1859, 1289, 3, 443, 534],\n",
       "   ['<1H OCEAN', 'INLAND', 'ISLAND', 'NEAR BAY', 'NEAR OCEAN']],\n",
       "  'ref_small_hist': [[7277, 5262, 2, 1847, 2124],\n",
       "   ['<1H OCEAN', 'INLAND', 'ISLAND', 'NEAR BAY', 'NEAR OCEAN']],\n",
       "  'feature_type': 'cat',\n",
       "  'stattest_name': 'Jensen-Shannon distance',\n",
       "  'drift_score': 0.01365204793442218,\n",
       "  'drift_detected': False}}"
      ]
     },
     "execution_count": 6,
     "metadata": {},
     "output_type": "execute_result"
    }
   ],
   "source": [
    "report['data_drift']['data']['metrics']"
   ]
  },
  {
   "cell_type": "code",
   "execution_count": 8,
   "metadata": {},
   "outputs": [
    {
     "data": {
      "text/plain": [
       "dict_keys(['n_features', 'n_drifted_features', 'share_drifted_features', 'dataset_drift', 'households', 'housing_median_age', 'latitude', 'longitude', 'median_house_value', 'median_income', 'population', 'total_bedrooms', 'total_rooms', 'ocean_proximity'])"
      ]
     },
     "execution_count": 8,
     "metadata": {},
     "output_type": "execute_result"
    }
   ],
   "source": [
    "report['data_drift']['data']['metrics'].keys()"
   ]
  },
  {
   "cell_type": "code",
   "execution_count": 9,
   "metadata": {},
   "outputs": [
    {
     "data": {
      "text/plain": [
       "False"
      ]
     },
     "execution_count": 9,
     "metadata": {},
     "output_type": "execute_result"
    }
   ],
   "source": [
    "report['data_drift']['data']['metrics']['dataset_drift']"
   ]
  },
  {
   "cell_type": "code",
   "execution_count": null,
   "metadata": {},
   "outputs": [],
   "source": [
    "from concurrent.futures.process import _ThreadWakeup\n",
    "from operator import truediv\n",
    "\n",
    "\n",
    "Null : Two datasets are of same hypothesis\n",
    "Alternate: Two datasets are not of same hypothesis\n",
    "\n",
    "if p>=0.05:\n",
    "    we have sufficient prrof that null hypothesis is true\n",
    "else:\n",
    "    we don't have sufficient proof that null hypothesis is true"
   ]
  }
 ],
 "metadata": {
  "kernelspec": {
   "display_name": "Python 3.7.0 (conda)",
   "language": "python",
   "name": "python3"
  },
  "language_info": {
   "codemirror_mode": {
    "name": "ipython",
    "version": 3
   },
   "file_extension": ".py",
   "mimetype": "text/x-python",
   "name": "python",
   "nbconvert_exporter": "python",
   "pygments_lexer": "ipython3",
   "version": "3.7.13"
  },
  "orig_nbformat": 4,
  "vscode": {
   "interpreter": {
    "hash": "c7838b74c8451ace314c1a64eecd18e0dd9b01f2fa43d1f9c9f02d0366987e03"
   }
  }
 },
 "nbformat": 4,
 "nbformat_minor": 2
}
